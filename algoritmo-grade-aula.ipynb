{
 "cells": [
  {
   "cell_type": "markdown",
   "metadata": {},
   "source": [
    "# --------------------------------------------------------------------------------------"
   ]
  },
  {
   "cell_type": "markdown",
   "metadata": {},
   "source": [
    "# Algoritmo Genético para montagem de Grade de Aula semanal\n",
    "## Aluno: Carlos Henrique Pinheiro Cordeiro"
   ]
  },
  {
   "cell_type": "markdown",
   "metadata": {},
   "source": [
    "# --------------------------------------------------------------------------------------"
   ]
  },
  {
   "cell_type": "code",
   "execution_count": null,
   "metadata": {},
   "outputs": [],
   "source": [
    "import random\n",
    "from math import ceil"
   ]
  },
  {
   "cell_type": "markdown",
   "metadata": {},
   "source": [
    "### Representação da disciplina a ser ofertada\n",
    "##### Array contendo: Nome da Disciplina, Código da Disciplina, Quantidade de aulas que devem ser ofertadas em uma semana"
   ]
  },
  {
   "cell_type": "code",
   "execution_count": null,
   "metadata": {},
   "outputs": [],
   "source": [
    "exemploMateria = ['Algoritmos', 1, 5]"
   ]
  },
  {
   "cell_type": "markdown",
   "metadata": {},
   "source": [
    "### Variáveis iniciais"
   ]
  },
  {
   "cell_type": "code",
   "execution_count": null,
   "metadata": {},
   "outputs": [],
   "source": [
    "#Matérias\n",
    "m1 = ['Inteligência Artificial'  , 1, 5]\n",
    "m2 = ['Paradigmas de Programação', 2, 2]\n",
    "m3 = ['Métodos Numéricos'        , 3, 3]\n",
    "m4 = ['Matemática Discreta'      , 4, 5]\n",
    "m5 = ['Sistemas de Informação'   , 5, 3]\n",
    "m6 = ['Empreendedorismo'         , 6, 2]\n",
    "m7 = ['Engenharia de Software'   , 7, 5]\n",
    "materias = [m1, m2, m3, m4, m5, m6, m7]"
   ]
  },
  {
   "cell_type": "markdown",
   "metadata": {},
   "source": [
    "# --------------------------------------------------------------------------------------"
   ]
  },
  {
   "cell_type": "markdown",
   "metadata": {},
   "source": [
    "### Cromossomo\n",
    "##### Array com seis espaços: o primeiro espaço corresponde ao seu valor de fitness\n",
    "##### Os cinco restantes representam os cinco dias de aula da semana\n",
    "##### Dentro de cada dias estão quantos objetos de matéria necessários, mas o que será contado é o número de horários que a disciplina ofertada está ocupando"
   ]
  },
  {
   "cell_type": "code",
   "execution_count": null,
   "metadata": {},
   "outputs": [],
   "source": [
    "horario = [\n",
    "    5,      #VALOR FITNESS FICTÍCIO\n",
    "    [\n",
    "        m1  #FECHOU AS CINCO MATÉRIAS DO DIA (5) - Segunda-feira\n",
    "    ],\n",
    "    [\n",
    "        m2, #FECHOU AS CINCO MATÉRIAS DO DIA (2+3) - Terça-feira\n",
    "        m3\n",
    "    ],\n",
    "    [\n",
    "            #Quarta-feira\n",
    "    ],\n",
    "    [\n",
    "            #Quinta-feira\n",
    "    ],\n",
    "    [\n",
    "            #Sexta-feira\n",
    "    ]\n",
    "]"
   ]
  },
  {
   "cell_type": "markdown",
   "metadata": {},
   "source": [
    "# --------------------------------------------------------------------------------------"
   ]
  },
  {
   "cell_type": "markdown",
   "metadata": {},
   "source": [
    "### Fitness e funções auxiliares\n",
    "##### Valor de Fitness = Quantidade de Dias com horário de aula completos (fechou as cinco aulas) - Quantidade de ofertas de disciplina repetidas"
   ]
  },
  {
   "cell_type": "code",
   "execution_count": null,
   "metadata": {},
   "outputs": [],
   "source": [
    "#Retorna a quantidade de aulas que o dia em questão está oferecendo\n",
    "def quantidadeAulasDia(diaAula):\n",
    "    quantidade = 0\n",
    "    for aula in diaAula:\n",
    "        quantidade = quantidade + aula[2]\n",
    "    return quantidade\n",
    "\n",
    "#Retorna a quantidade de disciplinas que repetiram durante a semana\n",
    "def disciplinasRepetidas(grade):\n",
    "    repetidas = 0\n",
    "    ofertadas = []\n",
    "    for i in materias:\n",
    "        ofertadas.append(0)\n",
    "    for dia in grade:\n",
    "        for disciplina in dia:\n",
    "            ofertadas[disciplina[1]-1] = ofertadas[disciplina[1]-1] + 1\n",
    "    for i in ofertadas:\n",
    "        if i > 1:\n",
    "            repetidas = repetidas + 1\n",
    "    return repetidas\n",
    "\n",
    "#Retorna a quantidade de dias completos\n",
    "def diasCompletosAulas(diasAulas):\n",
    "    diasCompletos = 0\n",
    "    for aulas in diasAulas:\n",
    "        if aulas == 5:\n",
    "            diasCompletos = diasCompletos + 1\n",
    "    return diasCompletos\n",
    "\n",
    "#Função de fitness que retorna um valor heurístico para o cromossomo, representando o quanto este converge para o resultado ideal.\n",
    "#Caso um cromossomo alcance valor 5, este é o resultado ideal\n",
    "def fitness(grade):\n",
    "    diasAulas = [quantidadeAulasDia(grade[1]), quantidadeAulasDia(grade[2]), quantidadeAulasDia(grade[3]), quantidadeAulasDia(grade[4]), quantidadeAulasDia(grade[5])]\n",
    "    return diasCompletosAulas(diasAulas) - disciplinasRepetidas(grade)\n",
    "    "
   ]
  },
  {
   "cell_type": "markdown",
   "metadata": {},
   "source": [
    "# --------------------------------------------------------------------------------------"
   ]
  },
  {
   "cell_type": "markdown",
   "metadata": {},
   "source": [
    "### Roleta\n",
    "##### Método de Roleta Viciada para escolha do candidato para a reprodução"
   ]
  },
  {
   "cell_type": "code",
   "execution_count": null,
   "metadata": {},
   "outputs": [],
   "source": [
    "def roleta(cromossomos):\n",
    "    roletaViciada = []\n",
    "    for cromossomo in cromossomos:\n",
    "        vicia = 1\n",
    "        if cromossomo[0] > 0:\n",
    "            vicia = cromossomo[0] * 3\n",
    "        for i in range(vicia):\n",
    "            roletaViciada.append(cromossomo)\n",
    "    sorteado = ceil(random.uniform(0.0, float(len(roletaViciada)))) - 1\n",
    "    if sorteado < 0:\n",
    "        sorteado = 0\n",
    "    return roletaViciada[sorteado]\n",
    "    "
   ]
  },
  {
   "cell_type": "markdown",
   "metadata": {},
   "source": [
    "# --------------------------------------------------------------------------------------"
   ]
  },
  {
   "cell_type": "markdown",
   "metadata": {},
   "source": [
    "### Mutação\n",
    "##### A mutação consiste em dois dias da semana trocarem com o outro uma matéria sua com a outra. Por exemplo, foram sorteados Terça-Feira e Sexta-Feira. Assim, certa matéria de Terça Feira passará a ser determinada de Sexta-Feira e vice-versa.\n",
    "##### Chance de mutação = 1%"
   ]
  },
  {
   "cell_type": "code",
   "execution_count": null,
   "metadata": {},
   "outputs": [],
   "source": [
    "def mutacao(cromossomo):\n",
    "    novoCromossomo = cromossomo\n",
    "    if random.random() * 100 <= 1:\n",
    "        diaI       = ceil(random.uniform(1.0, float(5)))\n",
    "        diaII      = ceil(random.uniform(1.0, float(5)))\n",
    "        iMateria   = ceil(random.uniform(0.0, len(novoCromossomo[diaI])))  - 1\n",
    "        iMateriaII = ceil(random.uniform(0.0, len(novoCromossomo[diaII]))) - 1\n",
    "        if (iMateria < 0):\n",
    "            iMateria = 0\n",
    "        if (iMateriaII < 0):\n",
    "            iMateriaII = 0\n",
    "        materiaI  = novoCromossomo[diaI][iMateria]\n",
    "        materiaII = novoCromossomo[diaII][iMateriaII]\n",
    "        novoCromossomo[diaI][iMateria]    = materiaII\n",
    "        novoCromossomo[diaII][iMateriaII] = materiaI\n",
    "    return novoCromossomo\n",
    "        \n"
   ]
  },
  {
   "cell_type": "markdown",
   "metadata": {},
   "source": [
    "# --------------------------------------------------------------------------------------"
   ]
  },
  {
   "cell_type": "markdown",
   "metadata": {},
   "source": [
    "### Crossover\n",
    "##### Consistindo em duas grades trocarem certos dias dos seus horários, sendo um crossover orientado a um ponto"
   ]
  },
  {
   "cell_type": "code",
   "execution_count": null,
   "metadata": {},
   "outputs": [],
   "source": [
    "\n",
    "\n",
    "\n",
    "#Função que realiza o compartilhamento do material genético, sendo chamado durante um crossover\n",
    "def compartilhaMaterialGenetico(cromossomo, cromossomoParceiro, pontoCrossover):\n",
    "    novoCromossomo = []\n",
    "    for i in cromossomo[:pontoCrossover]:\n",
    "        novoCromossomo.append(i)\n",
    "    for i in cromossomoParceiro[pontoCrossover:]:\n",
    "        novoCromossomo.append(i)\n",
    "    return novoCromossomo\n",
    "\n",
    "def crossover(cromossomoI, cromossomoII):\n",
    "    pontoCrossover = ceil(random.uniform(1.0, 5.0))\n",
    "    return (compartilhaMaterialGenetico(cromossomoI, cromossomoII, pontoCrossover), compartilhaMaterialGenetico(cromossomoII, cromossomoI, pontoCrossover))"
   ]
  }
 ],
 "metadata": {
  "kernelspec": {
   "display_name": "Python 3.9.7 ('base')",
   "language": "python",
   "name": "python3"
  },
  "language_info": {
   "name": "python",
   "version": "3.9.7"
  },
  "orig_nbformat": 4,
  "vscode": {
   "interpreter": {
    "hash": "ad2bdc8ecc057115af97d19610ffacc2b4e99fae6737bb82f5d7fb13d2f2c186"
   }
  }
 },
 "nbformat": 4,
 "nbformat_minor": 2
}
