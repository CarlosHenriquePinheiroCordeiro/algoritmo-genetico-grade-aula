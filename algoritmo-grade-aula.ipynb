{
 "cells": [
  {
   "cell_type": "code",
   "execution_count": null,
   "metadata": {},
   "outputs": [],
   "source": []
  },
  {
   "cell_type": "code",
   "execution_count": null,
   "metadata": {},
   "outputs": [],
   "source": [
    "#CENÁRIO DO PROBLEMA: SEIS PROFESSORES DEVEM MINISTRAR AULAS PARA DUAS TURMAS COM HORÁRIOS DIFERENTES.\n",
    "#SENDO ASSIM, DEVE SER MONTADO UM HORÁRIO SEMANAL DAS AULAS PARA CUMPRIR COM O OBJETIVO.\n",
    "#PARA CADA TURMA, UM PROFESSOR LECIONA UMA MATÉRIA DIFERENTE.\n",
    "#CADA DIA DE AULA TEM CINCO ESPAÇOS PARA DISCIPLINAS, SIMULANDO UMA MANHÃ NO IFC\n",
    "#VARIÁVEIS A SER LEVADAS EM CONSIDERAÇÃO:\n",
    "#   ()QUANTIDADE DE AULAS QUE X PROFESSOR DEVE DAR DE Y MATÉRIA\n",
    "#   ()DISPONIBILIDADE (QUE MUDA CONFORME O HORÁRIO VAI SENDO DEFINIDO PARA AS TURMAS) DO PROFESSOR PARA LECIONAR TAL MATÉRIA"
   ]
  },
  {
   "cell_type": "code",
   "execution_count": null,
   "metadata": {},
   "outputs": [],
   "source": [
    "#EXEMPLO DE MATÉRIA - ARRAY COM: NOME DA DISCIPLINA, QUANTAS AULAS DEVEM SER MINISTRADAS EM UMA SEMANA\n",
    "materiaI   = ['Inteligência Artificial', 5]\n",
    "materiaII  = ['Paradigmas de Programação', 2]\n",
    "materiaIII = ['Métodos Numéricos', 3]\n",
    "materiaIV  = ['Sistemas de Informação', 2]\n",
    "\n"
   ]
  },
  {
   "cell_type": "code",
   "execution_count": null,
   "metadata": {},
   "outputs": [],
   "source": [
    "#EXEMPLO DE PROFESSOR - ARRAY COM: NOME DO PROFESSOR, ARRAY COM AS DUAS DISCIPLINAS QUE VAI OFERTAR.\n",
    "#O PRIMEIRO SLOT DAS DISCIPLINAS É A MATÉRIA DA PRIMEIRA TURMA, JÁ O SEGUNDO É PARA A SEGUNDA TURMA\n",
    "professorI  = ['Daniel' , [materiaI, materiaII]]\n",
    "professorII = ['Juliano', [materiaI, materiaIII]]\n",
    "professorIII = ['Fábio', [materiaIV]]"
   ]
  },
  {
   "cell_type": "code",
   "execution_count": null,
   "metadata": {},
   "outputs": [],
   "source": [
    "#EXEMPLO DE CROMOSSOMO, QUE É A GRADE:\n",
    "#   ARRAY COM CINCO ESPAÇOS, REPRESENTANDO OS CINCO DIAS DE AULA DA SEMANA\n",
    "#   DENTRO DE CADA DIA ESTÃO QUANTOS OBJETOS DE PROFESSOR NECESSÁRIOS, O QUE SERÁ CONTADO É O NÚMERO DE HORÁRIOS QUE A DISCIPLINA QUE ESTE VAI OFERTAR OCUPA\n",
    "grade = [\n",
    "    [\n",
    "        professorI[1][0] #FECHOU AS CINCO MATÉRIAS DO DIA (5)\n",
    "    ],\n",
    "    [\n",
    "        professorII[1][1], #FECHOU AS CINCO MATÉRIAS DO DIA (2+3)\n",
    "        professorI[1][1]\n",
    "    ],\n",
    "    [\n",
    "\n",
    "    ],\n",
    "    [\n",
    "\n",
    "    ],\n",
    "    [\n",
    "\n",
    "    ]\n",
    "]"
   ]
  }
 ],
 "metadata": {
  "kernelspec": {
   "display_name": "Python 3.9.7 ('base')",
   "language": "python",
   "name": "python3"
  },
  "language_info": {
   "name": "python",
   "version": "3.9.7"
  },
  "orig_nbformat": 4,
  "vscode": {
   "interpreter": {
    "hash": "ad2bdc8ecc057115af97d19610ffacc2b4e99fae6737bb82f5d7fb13d2f2c186"
   }
  }
 },
 "nbformat": 4,
 "nbformat_minor": 2
}
